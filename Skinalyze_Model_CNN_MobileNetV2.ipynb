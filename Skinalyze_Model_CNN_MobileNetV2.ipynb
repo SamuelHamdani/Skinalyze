{
  "cells": [
    {
      "cell_type": "markdown",
      "metadata": {
        "id": "oXUFtVsekZau"
      },
      "source": [
        "## **Import Libraries**"
      ]
    },
    {
      "cell_type": "code",
      "execution_count": null,
      "metadata": {
        "id": "gKiDOD_zXeOh"
      },
      "outputs": [],
      "source": [
        "#Pretrained Model Inception without Top Layer\n",
        "# !wget \"https://storage.googleapis.com/mledu-datasets/inception_v3_weights_tf_dim_ordering_tf_kernels_notop.h5\""
      ]
    },
    {
      "cell_type": "code",
      "execution_count": null,
      "metadata": {
        "id": "EgnLH_EQ0nCZ"
      },
      "outputs": [],
      "source": [
        "#Export Dataset from .zip\n",
        "import zipfile\n",
        "\n",
        "zip_file = '/content/drive/MyDrive/Skinalyze(2)/Dataset_4/Dataset_5.zip'\n",
        "zip_ref = zipfile.ZipFile(zip_file, 'r')\n",
        "zip_ref.extractall('/content/drive/MyDrive/Skinalyze(2)/Dataset_4')\n",
        "zip_ref.close()"
      ]
    },
    {
      "cell_type": "code",
      "execution_count": null,
      "metadata": {
        "id": "ZqW9x6K6G520"
      },
      "outputs": [],
      "source": [
        "import os\n",
        "import random\n",
        "import shutil\n",
        "from shutil import copyfile\n",
        "import numpy as np\n",
        "from io import BytesIO\n",
        "\n",
        "import tensorflow as tf\n",
        "from tensorflow.keras import layers, Model\n",
        "from tensorflow.keras.preprocessing.image import ImageDataGenerator\n",
        "from tensorflow.keras.applications.inception_v3 import InceptionV3\n",
        "\n",
        "# Plotting and dealing with images\n",
        "import matplotlib.pyplot as plt\n",
        "import matplotlib.image as mpimg\n",
        "\n",
        "# Interactive widgets for Upload\n",
        "from ipywidgets import widgets"
      ]
    },
    {
      "cell_type": "markdown",
      "metadata": {
        "id": "ilMKIgkxbesd"
      },
      "source": [
        "# **Load Dataset**"
      ]
    },
    {
      "cell_type": "code",
      "execution_count": null,
      "metadata": {
        "colab": {
          "base_uri": "https://localhost:8080/"
        },
        "id": "QX9KosfL05Gb",
        "outputId": "384eac0a-cca6-49e0-82a1-16355b9124fd"
      },
      "outputs": [
        {
          "output_type": "stream",
          "name": "stdout",
          "text": [
            "=====================\n",
            "TRAIN DATA PER CATEGORIES:\n",
            "\n",
            "Acne : 300 images\n",
            "Dry Skin : 300 images\n",
            "Oily Skin : 300 images\n",
            "Normal : 300 images\n",
            "\n",
            "=====================\n",
            "VALIDATION DATA PER CATEGORIES:\n",
            "\n",
            "Acne : 100 images\n",
            "Dry Skin : 100 images\n",
            "Oily Skin : 100 images\n",
            "Normal : 100 images\n"
          ]
        }
      ],
      "source": [
        "#Count total images of train and validation data from the dataset\n",
        "\n",
        "TRAINING_DIR = \"/content/drive/MyDrive/Skinalyze(2)/Dataset_4/train/\"\n",
        "VALIDATION_DIR = \"/content/drive/MyDrive/Skinalyze(2)/Dataset_4/validation\"\n",
        "\n",
        "TRAINING_ACNE_DIR = os.path.join(TRAINING_DIR, \"acne/\")\n",
        "VALIDATION_ACNE_DIR = os.path.join(VALIDATION_DIR, \"acne/\")\n",
        "TRAINING_DRY_DIR = os.path.join(TRAINING_DIR, \"dry/\")\n",
        "VALIDATION_DRY_DIR = os.path.join(VALIDATION_DIR, \"dry/\")\n",
        "TRAINING_OILY_DIR = os.path.join(TRAINING_DIR, \"oily/\")\n",
        "VALIDATION_OILY_DIR = os.path.join(VALIDATION_DIR, \"oily/\")\n",
        "TRAINING_NORMAL_DIR = os.path.join(TRAINING_DIR, \"normal/\")\n",
        "VALIDATION_NORMAL_DIR = os.path.join(VALIDATION_DIR, \"normal/\")\n",
        "\n",
        "print(\"=====================\\nTRAIN DATA PER CATEGORIES:\\n\")\n",
        "print(f\"Acne : {len(os.listdir(TRAINING_ACNE_DIR))} images\")\n",
        "print(f\"Dry Skin : {len(os.listdir(TRAINING_DRY_DIR))} images\")\n",
        "print(f\"Oily Skin : {len(os.listdir(TRAINING_OILY_DIR))} images\")\n",
        "print(f\"Normal : {len(os.listdir(TRAINING_NORMAL_DIR))} images\")\n",
        "\n",
        "print(\"\\n=====================\\nVALIDATION DATA PER CATEGORIES:\\n\")\n",
        "print(f\"Acne : {len(os.listdir(VALIDATION_ACNE_DIR))} images\")\n",
        "print(f\"Dry Skin : {len(os.listdir(VALIDATION_DRY_DIR))} images\")\n",
        "print(f\"Oily Skin : {len(os.listdir(VALIDATION_OILY_DIR))} images\")\n",
        "print(f\"Normal : {len(os.listdir(VALIDATION_NORMAL_DIR))} images\")"
      ]
    },
    {
      "cell_type": "markdown",
      "metadata": {
        "id": "ELGhfEbxboAE"
      },
      "source": [
        "# **Preprocess Dataset Images**"
      ]
    },
    {
      "cell_type": "code",
      "execution_count": null,
      "metadata": {
        "id": "Pny7VXe93Y-F"
      },
      "outputs": [],
      "source": [
        "def train_val_generators(TRAINING_DIR, VALIDATION_DIR):\n",
        "  # Instantiate the ImageDataGenerator class\n",
        "  train_datagen = ImageDataGenerator(rescale=1./255.,\n",
        "                                     rotation_range=20,\n",
        "                                     width_shift_range=0.1,\n",
        "                                     height_shift_range=0.1,\n",
        "                                     shear_range=0.1,\n",
        "                                     zoom_range=0.2,\n",
        "                                     horizontal_flip=True,\n",
        "                                     fill_mode='nearest')\n",
        "\n",
        "  # Pass in the appropriate arguments to the flow_from_directory method\n",
        "  train_generator = train_datagen.flow_from_directory(directory=TRAINING_DIR,\n",
        "                                                      batch_size=32,\n",
        "                                                      class_mode='categorical',\n",
        "                                                      target_size=(150, 150))\n",
        "\n",
        "  # Instantiate the ImageDataGenerator class\n",
        "  validation_datagen = ImageDataGenerator(rescale=1./255.)\n",
        "\n",
        "  # Pass in the appropriate arguments to the flow_from_directory method\n",
        "  validation_generator = validation_datagen.flow_from_directory(directory=VALIDATION_DIR,\n",
        "                                                                batch_size=32,\n",
        "                                                                class_mode='categorical',\n",
        "                                                                target_size=(150, 150))\n",
        "\n",
        "  return train_generator, validation_generator"
      ]
    },
    {
      "cell_type": "code",
      "execution_count": null,
      "metadata": {
        "colab": {
          "base_uri": "https://localhost:8080/"
        },
        "id": "Jdopm2b3QzAU",
        "outputId": "b26757b0-a2fb-4794-ab42-49edab6e2b50"
      },
      "outputs": [
        {
          "output_type": "stream",
          "name": "stdout",
          "text": [
            "Found 1200 images belonging to 4 classes.\n",
            "Found 400 images belonging to 4 classes.\n"
          ]
        }
      ],
      "source": [
        "# Test your generators\n",
        "train_generator, validation_generator = train_val_generators(TRAINING_DIR, VALIDATION_DIR)"
      ]
    },
    {
      "cell_type": "markdown",
      "metadata": {
        "id": "eiiqA9-Accky"
      },
      "source": [
        "# **Build Model**"
      ]
    },
    {
      "cell_type": "code",
      "source": [
        "from tensorflow.keras.applications import MobileNetV2\n",
        "\n",
        "pre_trained_model = MobileNetV2(input_shape=(150, 150, 3),\n",
        "                         include_top=False,\n",
        "                         weights='imagenet')  # atau None jika pakai custom weight\n",
        "\n",
        "pre_trained_model.trainable = False\n",
        "\n",
        "for layer in pre_trained_model.layers[:-30]:\n",
        "    layer.trainable = False"
      ],
      "metadata": {
        "colab": {
          "base_uri": "https://localhost:8080/"
        },
        "id": "XQlTi8S44ZoC",
        "outputId": "5a01cf44-7503-4adb-fcee-7699605dfc97"
      },
      "execution_count": null,
      "outputs": [
        {
          "output_type": "stream",
          "name": "stderr",
          "text": [
            "<ipython-input-5-97adaa900e68>:3: UserWarning: `input_shape` is undefined or non-square, or `rows` is not in [96, 128, 160, 192, 224]. Weights for input shape (224, 224) will be loaded as the default.\n",
            "  pre_trained_model = MobileNetV2(input_shape=(150, 150, 3),\n"
          ]
        },
        {
          "output_type": "stream",
          "name": "stdout",
          "text": [
            "Downloading data from https://storage.googleapis.com/tensorflow/keras-applications/mobilenet_v2/mobilenet_v2_weights_tf_dim_ordering_tf_kernels_1.0_224_no_top.h5\n",
            "\u001b[1m9406464/9406464\u001b[0m \u001b[32m━━━━━━━━━━━━━━━━━━━━\u001b[0m\u001b[37m\u001b[0m \u001b[1m0s\u001b[0m 0us/step\n"
          ]
        }
      ]
    },
    {
      "cell_type": "code",
      "execution_count": null,
      "metadata": {
        "id": "XFfh6HfLXnrJ"
      },
      "outputs": [],
      "source": [
        "# #Use pretrained model as transfer learning layers\n",
        "# local_weight_file = '/content/drive/MyDrive/Skinalyze(2)/inception_v3_weights_tf_dim_ordering_tf_kernels_notop.h5'\n",
        "\n",
        "# #Adjust input shape and weights\n",
        "# pre_trained_model = InceptionV3(input_shape = (150, 150, 3),\n",
        "#                                 include_top = False,\n",
        "#                                 weights = None)"
      ]
    },
    {
      "cell_type": "code",
      "execution_count": null,
      "metadata": {
        "id": "9qjM8ZOfXqgC"
      },
      "outputs": [],
      "source": [
        "# # Load the downloaded pre-trained weights\n",
        "# pre_trained_model.load_weights(local_weight_file)\n",
        "\n",
        "# # Freeze the weights of the layers.\n",
        "# for layer in pre_trained_model.layers:\n",
        "#   layer.trainable = False"
      ]
    },
    {
      "cell_type": "code",
      "execution_count": null,
      "metadata": {
        "id": "NzVL5pCEXsz_"
      },
      "outputs": [],
      "source": [
        "# #Specify input layer model\n",
        "# last_layer = pre_trained_model.get_layer('mixed7')\n",
        "# print('last layer output shape: ', last_layer.output.shape)\n",
        "# last_output = last_layer.output"
      ]
    },
    {
      "cell_type": "code",
      "execution_count": null,
      "metadata": {
        "id": "7E1PNwp5Xv6B",
        "colab": {
          "base_uri": "https://localhost:8080/",
          "height": 374
        },
        "outputId": "ca0886c2-fbc9-4f43-fe5d-00f975d9c720"
      },
      "outputs": [
        {
          "output_type": "display_data",
          "data": {
            "text/plain": [
              "\u001b[1mModel: \"functional\"\u001b[0m\n"
            ],
            "text/html": [
              "<pre style=\"white-space:pre;overflow-x:auto;line-height:normal;font-family:Menlo,'DejaVu Sans Mono',consolas,'Courier New',monospace\"><span style=\"font-weight: bold\">Model: \"functional\"</span>\n",
              "</pre>\n"
            ]
          },
          "metadata": {}
        },
        {
          "output_type": "display_data",
          "data": {
            "text/plain": [
              "┏━━━━━━━━━━━━━━━━━━━━━━━━━━━━━━━━━┳━━━━━━━━━━━━━━━━━━━━━━━━┳━━━━━━━━━━━━━━━┓\n",
              "┃\u001b[1m \u001b[0m\u001b[1mLayer (type)                   \u001b[0m\u001b[1m \u001b[0m┃\u001b[1m \u001b[0m\u001b[1mOutput Shape          \u001b[0m\u001b[1m \u001b[0m┃\u001b[1m \u001b[0m\u001b[1m      Param #\u001b[0m\u001b[1m \u001b[0m┃\n",
              "┡━━━━━━━━━━━━━━━━━━━━━━━━━━━━━━━━━╇━━━━━━━━━━━━━━━━━━━━━━━━╇━━━━━━━━━━━━━━━┩\n",
              "│ input_layer_1 (\u001b[38;5;33mInputLayer\u001b[0m)      │ (\u001b[38;5;45mNone\u001b[0m, \u001b[38;5;34m150\u001b[0m, \u001b[38;5;34m150\u001b[0m, \u001b[38;5;34m3\u001b[0m)    │             \u001b[38;5;34m0\u001b[0m │\n",
              "├─────────────────────────────────┼────────────────────────┼───────────────┤\n",
              "│ mobilenetv2_1.00_224            │ (\u001b[38;5;45mNone\u001b[0m, \u001b[38;5;34m5\u001b[0m, \u001b[38;5;34m5\u001b[0m, \u001b[38;5;34m1280\u001b[0m)     │     \u001b[38;5;34m2,257,984\u001b[0m │\n",
              "│ (\u001b[38;5;33mFunctional\u001b[0m)                    │                        │               │\n",
              "├─────────────────────────────────┼────────────────────────┼───────────────┤\n",
              "│ global_average_pooling2d        │ (\u001b[38;5;45mNone\u001b[0m, \u001b[38;5;34m1280\u001b[0m)           │             \u001b[38;5;34m0\u001b[0m │\n",
              "│ (\u001b[38;5;33mGlobalAveragePooling2D\u001b[0m)        │                        │               │\n",
              "├─────────────────────────────────┼────────────────────────┼───────────────┤\n",
              "│ dense (\u001b[38;5;33mDense\u001b[0m)                   │ (\u001b[38;5;45mNone\u001b[0m, \u001b[38;5;34m256\u001b[0m)            │       \u001b[38;5;34m327,936\u001b[0m │\n",
              "├─────────────────────────────────┼────────────────────────┼───────────────┤\n",
              "│ dropout (\u001b[38;5;33mDropout\u001b[0m)               │ (\u001b[38;5;45mNone\u001b[0m, \u001b[38;5;34m256\u001b[0m)            │             \u001b[38;5;34m0\u001b[0m │\n",
              "├─────────────────────────────────┼────────────────────────┼───────────────┤\n",
              "│ dense_1 (\u001b[38;5;33mDense\u001b[0m)                 │ (\u001b[38;5;45mNone\u001b[0m, \u001b[38;5;34m4\u001b[0m)              │         \u001b[38;5;34m1,028\u001b[0m │\n",
              "└─────────────────────────────────┴────────────────────────┴───────────────┘\n"
            ],
            "text/html": [
              "<pre style=\"white-space:pre;overflow-x:auto;line-height:normal;font-family:Menlo,'DejaVu Sans Mono',consolas,'Courier New',monospace\">┏━━━━━━━━━━━━━━━━━━━━━━━━━━━━━━━━━┳━━━━━━━━━━━━━━━━━━━━━━━━┳━━━━━━━━━━━━━━━┓\n",
              "┃<span style=\"font-weight: bold\"> Layer (type)                    </span>┃<span style=\"font-weight: bold\"> Output Shape           </span>┃<span style=\"font-weight: bold\">       Param # </span>┃\n",
              "┡━━━━━━━━━━━━━━━━━━━━━━━━━━━━━━━━━╇━━━━━━━━━━━━━━━━━━━━━━━━╇━━━━━━━━━━━━━━━┩\n",
              "│ input_layer_1 (<span style=\"color: #0087ff; text-decoration-color: #0087ff\">InputLayer</span>)      │ (<span style=\"color: #00d7ff; text-decoration-color: #00d7ff\">None</span>, <span style=\"color: #00af00; text-decoration-color: #00af00\">150</span>, <span style=\"color: #00af00; text-decoration-color: #00af00\">150</span>, <span style=\"color: #00af00; text-decoration-color: #00af00\">3</span>)    │             <span style=\"color: #00af00; text-decoration-color: #00af00\">0</span> │\n",
              "├─────────────────────────────────┼────────────────────────┼───────────────┤\n",
              "│ mobilenetv2_1.00_224            │ (<span style=\"color: #00d7ff; text-decoration-color: #00d7ff\">None</span>, <span style=\"color: #00af00; text-decoration-color: #00af00\">5</span>, <span style=\"color: #00af00; text-decoration-color: #00af00\">5</span>, <span style=\"color: #00af00; text-decoration-color: #00af00\">1280</span>)     │     <span style=\"color: #00af00; text-decoration-color: #00af00\">2,257,984</span> │\n",
              "│ (<span style=\"color: #0087ff; text-decoration-color: #0087ff\">Functional</span>)                    │                        │               │\n",
              "├─────────────────────────────────┼────────────────────────┼───────────────┤\n",
              "│ global_average_pooling2d        │ (<span style=\"color: #00d7ff; text-decoration-color: #00d7ff\">None</span>, <span style=\"color: #00af00; text-decoration-color: #00af00\">1280</span>)           │             <span style=\"color: #00af00; text-decoration-color: #00af00\">0</span> │\n",
              "│ (<span style=\"color: #0087ff; text-decoration-color: #0087ff\">GlobalAveragePooling2D</span>)        │                        │               │\n",
              "├─────────────────────────────────┼────────────────────────┼───────────────┤\n",
              "│ dense (<span style=\"color: #0087ff; text-decoration-color: #0087ff\">Dense</span>)                   │ (<span style=\"color: #00d7ff; text-decoration-color: #00d7ff\">None</span>, <span style=\"color: #00af00; text-decoration-color: #00af00\">256</span>)            │       <span style=\"color: #00af00; text-decoration-color: #00af00\">327,936</span> │\n",
              "├─────────────────────────────────┼────────────────────────┼───────────────┤\n",
              "│ dropout (<span style=\"color: #0087ff; text-decoration-color: #0087ff\">Dropout</span>)               │ (<span style=\"color: #00d7ff; text-decoration-color: #00d7ff\">None</span>, <span style=\"color: #00af00; text-decoration-color: #00af00\">256</span>)            │             <span style=\"color: #00af00; text-decoration-color: #00af00\">0</span> │\n",
              "├─────────────────────────────────┼────────────────────────┼───────────────┤\n",
              "│ dense_1 (<span style=\"color: #0087ff; text-decoration-color: #0087ff\">Dense</span>)                 │ (<span style=\"color: #00d7ff; text-decoration-color: #00d7ff\">None</span>, <span style=\"color: #00af00; text-decoration-color: #00af00\">4</span>)              │         <span style=\"color: #00af00; text-decoration-color: #00af00\">1,028</span> │\n",
              "└─────────────────────────────────┴────────────────────────┴───────────────┘\n",
              "</pre>\n"
            ]
          },
          "metadata": {}
        },
        {
          "output_type": "display_data",
          "data": {
            "text/plain": [
              "\u001b[1m Total params: \u001b[0m\u001b[38;5;34m2,586,948\u001b[0m (9.87 MB)\n"
            ],
            "text/html": [
              "<pre style=\"white-space:pre;overflow-x:auto;line-height:normal;font-family:Menlo,'DejaVu Sans Mono',consolas,'Courier New',monospace\"><span style=\"font-weight: bold\"> Total params: </span><span style=\"color: #00af00; text-decoration-color: #00af00\">2,586,948</span> (9.87 MB)\n",
              "</pre>\n"
            ]
          },
          "metadata": {}
        },
        {
          "output_type": "display_data",
          "data": {
            "text/plain": [
              "\u001b[1m Trainable params: \u001b[0m\u001b[38;5;34m328,964\u001b[0m (1.25 MB)\n"
            ],
            "text/html": [
              "<pre style=\"white-space:pre;overflow-x:auto;line-height:normal;font-family:Menlo,'DejaVu Sans Mono',consolas,'Courier New',monospace\"><span style=\"font-weight: bold\"> Trainable params: </span><span style=\"color: #00af00; text-decoration-color: #00af00\">328,964</span> (1.25 MB)\n",
              "</pre>\n"
            ]
          },
          "metadata": {}
        },
        {
          "output_type": "display_data",
          "data": {
            "text/plain": [
              "\u001b[1m Non-trainable params: \u001b[0m\u001b[38;5;34m2,257,984\u001b[0m (8.61 MB)\n"
            ],
            "text/html": [
              "<pre style=\"white-space:pre;overflow-x:auto;line-height:normal;font-family:Menlo,'DejaVu Sans Mono',consolas,'Courier New',monospace\"><span style=\"font-weight: bold\"> Non-trainable params: </span><span style=\"color: #00af00; text-decoration-color: #00af00\">2,257,984</span> (8.61 MB)\n",
              "</pre>\n"
            ]
          },
          "metadata": {}
        }
      ],
      "source": [
        "inputs = tf.keras.Input(shape=(150, 150, 3))\n",
        "x = pre_trained_model(inputs, training=False)  # Memanggil Model Pretrained\n",
        "x = layers.GlobalAveragePooling2D()(x)\n",
        "x = layers.Dense(256, activation='relu')(x)\n",
        "x = layers.Dropout(0.4)(x)\n",
        "outputs = layers.Dense(4, activation='softmax')(x)\n",
        "\n",
        "model = tf.keras.Model(inputs, outputs)\n",
        "\n",
        "# Print the model summary\n",
        "model.summary()"
      ]
    },
    {
      "cell_type": "code",
      "execution_count": null,
      "metadata": {
        "id": "4Bwl_3HfT_vK"
      },
      "outputs": [],
      "source": [
        "model.compile(\n",
        "    loss='categorical_crossentropy',\n",
        "    optimizer=tf.keras.optimizers.Adam(learning_rate=0.0001),\n",
        "    metrics=['accuracy']\n",
        ")"
      ]
    },
    {
      "cell_type": "code",
      "execution_count": null,
      "metadata": {
        "id": "M3KJtgm1LDF1"
      },
      "outputs": [],
      "source": [
        "class myCallback(tf.keras.callbacks.Callback):\n",
        "  def on_epoch_end(self, epoch, logs={}):\n",
        "    if(logs.get('accuracy') > 0.90):\n",
        "      print(\"\\nReached 90% accuracy so cancelling training!\")\n",
        "      self.model.stop_training = True"
      ]
    },
    {
      "cell_type": "code",
      "execution_count": null,
      "metadata": {
        "id": "ogo0BbIGkDxf",
        "colab": {
          "base_uri": "https://localhost:8080/"
        },
        "outputId": "8ed8f53e-bdf2-4ac4-84bf-832e0bd51770"
      },
      "outputs": [
        {
          "output_type": "stream",
          "name": "stderr",
          "text": [
            "/usr/local/lib/python3.11/dist-packages/keras/src/trainers/data_adapters/py_dataset_adapter.py:121: UserWarning: Your `PyDataset` class should call `super().__init__(**kwargs)` in its constructor. `**kwargs` can include `workers`, `use_multiprocessing`, `max_queue_size`. Do not pass these arguments to `fit()`, as they will be ignored.\n",
            "  self._warn_if_super_not_called()\n"
          ]
        },
        {
          "output_type": "stream",
          "name": "stdout",
          "text": [
            "Epoch 1/100\n",
            "38/38 - 357s - 9s/step - accuracy: 0.3350 - loss: 1.6181 - val_accuracy: 0.4425 - val_loss: 1.3156\n",
            "Epoch 2/100\n",
            "38/38 - 43s - 1s/step - accuracy: 0.4942 - loss: 1.2069 - val_accuracy: 0.5450 - val_loss: 1.1762\n",
            "Epoch 3/100\n",
            "38/38 - 89s - 2s/step - accuracy: 0.5675 - loss: 1.0318 - val_accuracy: 0.5925 - val_loss: 1.1015\n",
            "Epoch 4/100\n",
            "38/38 - 45s - 1s/step - accuracy: 0.6092 - loss: 0.9373 - val_accuracy: 0.6150 - val_loss: 1.1117\n",
            "Epoch 5/100\n",
            "38/38 - 44s - 1s/step - accuracy: 0.6400 - loss: 0.8817 - val_accuracy: 0.6075 - val_loss: 1.1094\n",
            "Epoch 6/100\n",
            "38/38 - 45s - 1s/step - accuracy: 0.6467 - loss: 0.8800 - val_accuracy: 0.6325 - val_loss: 1.0526\n",
            "Epoch 7/100\n",
            "38/38 - 45s - 1s/step - accuracy: 0.6817 - loss: 0.7793 - val_accuracy: 0.6375 - val_loss: 1.0172\n",
            "Epoch 8/100\n",
            "38/38 - 44s - 1s/step - accuracy: 0.6825 - loss: 0.7654 - val_accuracy: 0.6375 - val_loss: 1.0433\n",
            "Epoch 9/100\n",
            "38/38 - 44s - 1s/step - accuracy: 0.6925 - loss: 0.7468 - val_accuracy: 0.6550 - val_loss: 0.9997\n",
            "Epoch 10/100\n",
            "38/38 - 43s - 1s/step - accuracy: 0.6925 - loss: 0.7448 - val_accuracy: 0.6425 - val_loss: 1.0080\n",
            "Epoch 11/100\n",
            "38/38 - 43s - 1s/step - accuracy: 0.7108 - loss: 0.7200 - val_accuracy: 0.6750 - val_loss: 0.9799\n",
            "Epoch 12/100\n",
            "38/38 - 82s - 2s/step - accuracy: 0.7067 - loss: 0.7155 - val_accuracy: 0.6950 - val_loss: 0.9891\n",
            "Epoch 13/100\n",
            "38/38 - 44s - 1s/step - accuracy: 0.7192 - loss: 0.6871 - val_accuracy: 0.6775 - val_loss: 0.9467\n",
            "Epoch 14/100\n",
            "38/38 - 44s - 1s/step - accuracy: 0.7458 - loss: 0.6484 - val_accuracy: 0.6950 - val_loss: 0.9440\n",
            "Epoch 15/100\n",
            "38/38 - 47s - 1s/step - accuracy: 0.7442 - loss: 0.6417 - val_accuracy: 0.7000 - val_loss: 0.9364\n",
            "Epoch 16/100\n",
            "38/38 - 47s - 1s/step - accuracy: 0.7442 - loss: 0.6473 - val_accuracy: 0.7025 - val_loss: 0.9134\n",
            "Epoch 17/100\n",
            "38/38 - 44s - 1s/step - accuracy: 0.7692 - loss: 0.5963 - val_accuracy: 0.7050 - val_loss: 0.9678\n",
            "Epoch 18/100\n",
            "38/38 - 81s - 2s/step - accuracy: 0.7550 - loss: 0.6250 - val_accuracy: 0.6950 - val_loss: 0.9457\n",
            "Epoch 19/100\n",
            "38/38 - 82s - 2s/step - accuracy: 0.7625 - loss: 0.5819 - val_accuracy: 0.7050 - val_loss: 0.9223\n",
            "Epoch 20/100\n",
            "38/38 - 44s - 1s/step - accuracy: 0.7542 - loss: 0.6061 - val_accuracy: 0.7125 - val_loss: 0.9447\n",
            "Epoch 21/100\n",
            "38/38 - 44s - 1s/step - accuracy: 0.7725 - loss: 0.5831 - val_accuracy: 0.7175 - val_loss: 0.9021\n",
            "Epoch 22/100\n",
            "38/38 - 44s - 1s/step - accuracy: 0.7767 - loss: 0.5664 - val_accuracy: 0.7225 - val_loss: 0.9585\n",
            "Epoch 23/100\n",
            "38/38 - 44s - 1s/step - accuracy: 0.7700 - loss: 0.5711 - val_accuracy: 0.7200 - val_loss: 0.9185\n",
            "Epoch 24/100\n",
            "38/38 - 44s - 1s/step - accuracy: 0.7642 - loss: 0.5710 - val_accuracy: 0.7200 - val_loss: 0.9530\n",
            "Epoch 25/100\n",
            "38/38 - 44s - 1s/step - accuracy: 0.7825 - loss: 0.5494 - val_accuracy: 0.7300 - val_loss: 0.8947\n",
            "Epoch 26/100\n",
            "38/38 - 43s - 1s/step - accuracy: 0.7808 - loss: 0.5461 - val_accuracy: 0.7200 - val_loss: 0.9642\n",
            "Epoch 27/100\n",
            "38/38 - 55s - 1s/step - accuracy: 0.7725 - loss: 0.5337 - val_accuracy: 0.7325 - val_loss: 0.9376\n",
            "Epoch 28/100\n",
            "38/38 - 44s - 1s/step - accuracy: 0.7967 - loss: 0.5231 - val_accuracy: 0.7375 - val_loss: 0.9370\n",
            "Epoch 29/100\n",
            "38/38 - 43s - 1s/step - accuracy: 0.8050 - loss: 0.5035 - val_accuracy: 0.7275 - val_loss: 0.9294\n",
            "Epoch 30/100\n",
            "38/38 - 83s - 2s/step - accuracy: 0.7992 - loss: 0.5114 - val_accuracy: 0.7300 - val_loss: 0.8705\n",
            "Epoch 31/100\n",
            "38/38 - 43s - 1s/step - accuracy: 0.7867 - loss: 0.5097 - val_accuracy: 0.7500 - val_loss: 0.8936\n",
            "Epoch 32/100\n",
            "38/38 - 43s - 1s/step - accuracy: 0.8025 - loss: 0.5115 - val_accuracy: 0.7400 - val_loss: 0.9186\n",
            "Epoch 33/100\n",
            "38/38 - 43s - 1s/step - accuracy: 0.8233 - loss: 0.4660 - val_accuracy: 0.7525 - val_loss: 0.8982\n",
            "Epoch 34/100\n",
            "38/38 - 44s - 1s/step - accuracy: 0.8242 - loss: 0.4631 - val_accuracy: 0.7475 - val_loss: 0.8730\n",
            "Epoch 35/100\n",
            "38/38 - 44s - 1s/step - accuracy: 0.8183 - loss: 0.4850 - val_accuracy: 0.7475 - val_loss: 0.8642\n",
            "Epoch 36/100\n",
            "38/38 - 44s - 1s/step - accuracy: 0.8158 - loss: 0.4822 - val_accuracy: 0.7450 - val_loss: 0.8531\n",
            "Epoch 37/100\n",
            "38/38 - 43s - 1s/step - accuracy: 0.8258 - loss: 0.4480 - val_accuracy: 0.7425 - val_loss: 0.8613\n",
            "Epoch 38/100\n",
            "38/38 - 44s - 1s/step - accuracy: 0.8208 - loss: 0.4779 - val_accuracy: 0.7575 - val_loss: 0.8472\n",
            "Epoch 39/100\n",
            "38/38 - 44s - 1s/step - accuracy: 0.8158 - loss: 0.4426 - val_accuracy: 0.7525 - val_loss: 0.8718\n",
            "Epoch 40/100\n",
            "38/38 - 44s - 1s/step - accuracy: 0.8342 - loss: 0.4448 - val_accuracy: 0.7550 - val_loss: 0.8929\n",
            "Epoch 41/100\n",
            "38/38 - 44s - 1s/step - accuracy: 0.8233 - loss: 0.4497 - val_accuracy: 0.7525 - val_loss: 0.9305\n",
            "Epoch 42/100\n",
            "38/38 - 43s - 1s/step - accuracy: 0.8408 - loss: 0.4204 - val_accuracy: 0.7525 - val_loss: 0.8790\n",
            "Epoch 43/100\n",
            "38/38 - 44s - 1s/step - accuracy: 0.8250 - loss: 0.4688 - val_accuracy: 0.7475 - val_loss: 0.8769\n",
            "Epoch 44/100\n",
            "38/38 - 44s - 1s/step - accuracy: 0.8208 - loss: 0.4490 - val_accuracy: 0.7525 - val_loss: 0.9420\n",
            "Epoch 45/100\n",
            "38/38 - 43s - 1s/step - accuracy: 0.8267 - loss: 0.4363 - val_accuracy: 0.7550 - val_loss: 0.8577\n",
            "Epoch 46/100\n",
            "38/38 - 83s - 2s/step - accuracy: 0.8258 - loss: 0.4381 - val_accuracy: 0.7625 - val_loss: 0.8601\n",
            "Epoch 47/100\n",
            "38/38 - 44s - 1s/step - accuracy: 0.8458 - loss: 0.3992 - val_accuracy: 0.7725 - val_loss: 0.8426\n",
            "Epoch 48/100\n",
            "38/38 - 44s - 1s/step - accuracy: 0.8492 - loss: 0.4092 - val_accuracy: 0.7575 - val_loss: 0.8707\n",
            "Epoch 49/100\n",
            "38/38 - 81s - 2s/step - accuracy: 0.8350 - loss: 0.4340 - val_accuracy: 0.7650 - val_loss: 0.9000\n",
            "Epoch 50/100\n",
            "38/38 - 43s - 1s/step - accuracy: 0.8683 - loss: 0.3991 - val_accuracy: 0.7650 - val_loss: 0.8975\n",
            "Epoch 51/100\n",
            "38/38 - 43s - 1s/step - accuracy: 0.8525 - loss: 0.3870 - val_accuracy: 0.7650 - val_loss: 0.9012\n",
            "Epoch 52/100\n",
            "38/38 - 45s - 1s/step - accuracy: 0.8558 - loss: 0.3843 - val_accuracy: 0.7575 - val_loss: 0.9225\n",
            "Epoch 53/100\n",
            "38/38 - 44s - 1s/step - accuracy: 0.8408 - loss: 0.4142 - val_accuracy: 0.7650 - val_loss: 0.8700\n",
            "Epoch 54/100\n",
            "38/38 - 44s - 1s/step - accuracy: 0.8500 - loss: 0.4078 - val_accuracy: 0.7725 - val_loss: 0.9301\n",
            "Epoch 55/100\n",
            "38/38 - 44s - 1s/step - accuracy: 0.8517 - loss: 0.3841 - val_accuracy: 0.7550 - val_loss: 0.8805\n",
            "Epoch 56/100\n",
            "38/38 - 44s - 1s/step - accuracy: 0.8442 - loss: 0.3873 - val_accuracy: 0.7625 - val_loss: 0.8412\n",
            "Epoch 57/100\n",
            "38/38 - 43s - 1s/step - accuracy: 0.8725 - loss: 0.3762 - val_accuracy: 0.7775 - val_loss: 0.9134\n",
            "Epoch 58/100\n",
            "38/38 - 83s - 2s/step - accuracy: 0.8642 - loss: 0.3769 - val_accuracy: 0.7625 - val_loss: 0.8811\n",
            "Epoch 59/100\n",
            "38/38 - 43s - 1s/step - accuracy: 0.8525 - loss: 0.3832 - val_accuracy: 0.7700 - val_loss: 0.8670\n",
            "Epoch 60/100\n",
            "38/38 - 42s - 1s/step - accuracy: 0.8492 - loss: 0.3690 - val_accuracy: 0.7825 - val_loss: 0.8528\n",
            "Epoch 61/100\n",
            "38/38 - 43s - 1s/step - accuracy: 0.8525 - loss: 0.3893 - val_accuracy: 0.7850 - val_loss: 0.8362\n",
            "Epoch 62/100\n",
            "38/38 - 44s - 1s/step - accuracy: 0.8608 - loss: 0.3680 - val_accuracy: 0.7700 - val_loss: 0.8699\n",
            "Epoch 63/100\n",
            "38/38 - 43s - 1s/step - accuracy: 0.8633 - loss: 0.3558 - val_accuracy: 0.7800 - val_loss: 0.8292\n",
            "Epoch 64/100\n",
            "38/38 - 44s - 1s/step - accuracy: 0.8633 - loss: 0.3627 - val_accuracy: 0.7925 - val_loss: 0.8599\n",
            "Epoch 65/100\n",
            "38/38 - 43s - 1s/step - accuracy: 0.8700 - loss: 0.3456 - val_accuracy: 0.7825 - val_loss: 0.9549\n",
            "Epoch 66/100\n",
            "38/38 - 44s - 1s/step - accuracy: 0.8583 - loss: 0.3682 - val_accuracy: 0.7850 - val_loss: 0.8593\n",
            "Epoch 67/100\n",
            "38/38 - 43s - 1s/step - accuracy: 0.8750 - loss: 0.3457 - val_accuracy: 0.7900 - val_loss: 0.8932\n",
            "Epoch 68/100\n",
            "38/38 - 44s - 1s/step - accuracy: 0.8683 - loss: 0.3516 - val_accuracy: 0.7925 - val_loss: 0.8204\n",
            "Epoch 69/100\n",
            "38/38 - 43s - 1s/step - accuracy: 0.8825 - loss: 0.3210 - val_accuracy: 0.7825 - val_loss: 0.8547\n",
            "Epoch 70/100\n",
            "38/38 - 82s - 2s/step - accuracy: 0.8758 - loss: 0.3224 - val_accuracy: 0.7825 - val_loss: 0.9242\n",
            "Epoch 71/100\n",
            "38/38 - 44s - 1s/step - accuracy: 0.8583 - loss: 0.3536 - val_accuracy: 0.7800 - val_loss: 0.8329\n",
            "Epoch 72/100\n",
            "38/38 - 43s - 1s/step - accuracy: 0.8792 - loss: 0.3313 - val_accuracy: 0.7850 - val_loss: 0.8162\n",
            "Epoch 73/100\n",
            "38/38 - 44s - 1s/step - accuracy: 0.8725 - loss: 0.3439 - val_accuracy: 0.7900 - val_loss: 0.8435\n",
            "Epoch 74/100\n",
            "38/38 - 45s - 1s/step - accuracy: 0.8842 - loss: 0.3054 - val_accuracy: 0.7875 - val_loss: 0.8495\n",
            "Epoch 75/100\n",
            "38/38 - 43s - 1s/step - accuracy: 0.8883 - loss: 0.3143 - val_accuracy: 0.7950 - val_loss: 0.8425\n",
            "Epoch 76/100\n",
            "38/38 - 83s - 2s/step - accuracy: 0.8833 - loss: 0.3177 - val_accuracy: 0.7825 - val_loss: 0.8585\n",
            "Epoch 77/100\n",
            "38/38 - 44s - 1s/step - accuracy: 0.8792 - loss: 0.3170 - val_accuracy: 0.7925 - val_loss: 0.8539\n",
            "Epoch 78/100\n",
            "38/38 - 43s - 1s/step - accuracy: 0.8842 - loss: 0.3151 - val_accuracy: 0.7900 - val_loss: 0.8708\n",
            "Epoch 79/100\n",
            "38/38 - 44s - 1s/step - accuracy: 0.8925 - loss: 0.3168 - val_accuracy: 0.8025 - val_loss: 0.8479\n",
            "Epoch 80/100\n",
            "38/38 - 43s - 1s/step - accuracy: 0.8875 - loss: 0.3036 - val_accuracy: 0.7850 - val_loss: 0.8588\n",
            "Epoch 81/100\n",
            "38/38 - 44s - 1s/step - accuracy: 0.8917 - loss: 0.2966 - val_accuracy: 0.7900 - val_loss: 0.8646\n",
            "Epoch 82/100\n",
            "38/38 - 44s - 1s/step - accuracy: 0.8933 - loss: 0.3092 - val_accuracy: 0.7800 - val_loss: 0.9179\n",
            "Epoch 83/100\n",
            "38/38 - 43s - 1s/step - accuracy: 0.8842 - loss: 0.3145 - val_accuracy: 0.7850 - val_loss: 0.8884\n",
            "Epoch 84/100\n",
            "\n",
            "Reached 90% accuracy so cancelling training!\n",
            "38/38 - 41s - 1s/step - accuracy: 0.9025 - loss: 0.2886 - val_accuracy: 0.7825 - val_loss: 0.8838\n"
          ]
        }
      ],
      "source": [
        "history = model.fit(\n",
        "    train_generator,\n",
        "    validation_data=validation_generator,\n",
        "    epochs=100,\n",
        "    verbose=2,\n",
        "    callbacks=[myCallback()]\n",
        ")"
      ]
    },
    {
      "cell_type": "markdown",
      "metadata": {
        "id": "Sn0in2JoiiqB"
      },
      "source": [
        "# **Visualize Accuracy and Loss Value**"
      ]
    },
    {
      "cell_type": "code",
      "execution_count": null,
      "metadata": {
        "id": "Nt2jJFKhioV5"
      },
      "outputs": [],
      "source": [
        "def plot_loss_acc(history):\n",
        "    '''Plots the training and validation loss and accuracy from a history object'''\n",
        "    train_acc = history.history['accuracy']\n",
        "    train_loss = history.history['loss']\n",
        "    val_acc = history.history['val_accuracy']\n",
        "    val_loss = history.history['val_loss']\n",
        "\n",
        "    epochs = range(len(train_acc))\n",
        "\n",
        "    fig, ax = plt.subplots(1,2, figsize=(12, 6))\n",
        "    ax[0].plot(epochs, train_acc, 'bo', label='Training accuracy')\n",
        "    ax[0].plot(epochs, val_acc, 'b', label='Validation accuracy')\n",
        "    ax[0].set_title('Training and validation accuracy')\n",
        "    ax[0].set_xlabel('epochs')\n",
        "    ax[0].set_ylabel('accuracy')\n",
        "    ax[0].legend()\n",
        "\n",
        "    ax[1].plot(epochs, train_loss, 'bo', label='Training Loss')\n",
        "    ax[1].plot(epochs, val_loss, 'b', label='Validation Loss')\n",
        "    ax[1].set_title('Training and validation loss')\n",
        "    ax[1].set_xlabel('epochs')\n",
        "    ax[1].set_ylabel('loss')\n",
        "    ax[1].legend()\n",
        "\n",
        "    plt.show()"
      ]
    },
    {
      "cell_type": "code",
      "execution_count": null,
      "metadata": {
        "id": "UMXxepAKi84k",
        "colab": {
          "base_uri": "https://localhost:8080/",
          "height": 531
        },
        "outputId": "0d03dab0-9b8e-4201-de8b-e73c85dff463"
      },
      "outputs": [
        {
          "output_type": "display_data",
          "data": {
            "text/plain": [
              "<Figure size 1200x600 with 2 Axes>"
            ],
            "image/png": "[encoded data removed]"
          },
          "metadata": {}
        }
      ],
      "source": [
        "plot_loss_acc(history)"
      ]
    },
    {
      "cell_type": "markdown",
      "metadata": {
        "id": "bT2wQz1OjLUK"
      },
      "source": [
        "# **Test The Model**"
      ]
    },
    {
      "cell_type": "code",
      "execution_count": null,
      "metadata": {
        "id": "Ux_PbrOBGPzd",
        "colab": {
          "base_uri": "https://localhost:8080/"
        },
        "outputId": "f63376b5-3ffb-47bc-f7f9-6251d4899efa"
      },
      "outputs": [
        {
          "output_type": "stream",
          "name": "stderr",
          "text": [
            "WARNING:absl:You are saving your model as an HDF5 file via `model.save()` or `keras.saving.save_model(model)`. This file format is considered legacy. We recommend using instead the native Keras format, e.g. `model.save('my_model.keras')` or `keras.saving.save_model(model, 'my_model.keras')`. \n"
          ]
        }
      ],
      "source": [
        "# Save the model architecture in JSON format\n",
        "model_json = model.to_json()\n",
        "with open(\"model.json\", \"w\") as json_file:\n",
        "    json_file.write(model_json)\n",
        "\n",
        "# Save the model weights in H5 format\n",
        "model.save(\"skinalyze-model.h5\")\n"
      ]
    },
    {
      "cell_type": "code",
      "execution_count": null,
      "metadata": {
        "id": "rVMzOd06d4V2",
        "colab": {
          "base_uri": "https://localhost:8080/",
          "height": 142
        },
        "outputId": "72f136be-cf53-4736-bd86-53ac658d80ce"
      },
      "outputs": [
        {
          "output_type": "display_data",
          "data": {
            "text/plain": [
              "<IPython.core.display.HTML object>"
            ],
            "text/html": [
              "\n",
              "     <input type=\"file\" id=\"files-67cf7634-5257-4a49-a09a-d3b975861836\" name=\"files[]\" multiple disabled\n",
              "        style=\"border:none\" />\n",
              "     <output id=\"result-67cf7634-5257-4a49-a09a-d3b975861836\">\n",
              "      Upload widget is only available when the cell has been executed in the\n",
              "      current browser session. Please rerun this cell to enable.\n",
              "      </output>\n",
              "      <script>// Copyright 2017 Google LLC\n",
              "//\n",
              "// Licensed under the Apache License, Version 2.0 (the \"License\");\n",
              "// you may not use this file except in compliance with the License.\n",
              "// You may obtain a copy of the License at\n",
              "//\n",
              "//      http://www.apache.org/licenses/LICENSE-2.0\n",
              "//\n",
              "// Unless required by applicable law or agreed to in writing, software\n",
              "// distributed under the License is distributed on an \"AS IS\" BASIS,\n",
              "// WITHOUT WARRANTIES OR CONDITIONS OF ANY KIND, either express or implied.\n",
              "// See the License for the specific language governing permissions and\n",
              "// limitations under the License.\n",
              "\n",
              "/**\n",
              " * @fileoverview Helpers for google.colab Python module.\n",
              " */\n",
              "(function(scope) {\n",
              "function span(text, styleAttributes = {}) {\n",
              "  const element = document.createElement('span');\n",
              "  element.textContent = text;\n",
              "  for (const key of Object.keys(styleAttributes)) {\n",
              "    element.style[key] = styleAttributes[key];\n",
              "  }\n",
              "  return element;\n",
              "}\n",
              "\n",
              "// Max number of bytes which will be uploaded at a time.\n",
              "const MAX_PAYLOAD_SIZE = 100 * 1024;\n",
              "\n",
              "function _uploadFiles(inputId, outputId) {\n",
              "  const steps = uploadFilesStep(inputId, outputId);\n",
              "  const outputElement = document.getElementById(outputId);\n",
              "  // Cache steps on the outputElement to make it available for the next call\n",
              "  // to uploadFilesContinue from Python.\n",
              "  outputElement.steps = steps;\n",
              "\n",
              "  return _uploadFilesContinue(outputId);\n",
              "}\n",
              "\n",
              "// This is roughly an async generator (not supported in the browser yet),\n",
              "// where there are multiple asynchronous steps and the Python side is going\n",
              "// to poll for completion of each step.\n",
              "// This uses a Promise to block the python side on completion of each step,\n",
              "// then passes the result of the previous step as the input to the next step.\n",
              "function _uploadFilesContinue(outputId) {\n",
              "  const outputElement = document.getElementById(outputId);\n",
              "  const steps = outputElement.steps;\n",
              "\n",
              "  const next = steps.next(outputElement.lastPromiseValue);\n",
              "  return Promise.resolve(next.value.promise).then((value) => {\n",
              "    // Cache the last promise value to make it available to the next\n",
              "    // step of the generator.\n",
              "    outputElement.lastPromiseValue = value;\n",
              "    return next.value.response;\n",
              "  });\n",
              "}\n",
              "\n",
              "/**\n",
              " * Generator function which is called between each async step of the upload\n",
              " * process.\n",
              " * @param {string} inputId Element ID of the input file picker element.\n",
              " * @param {string} outputId Element ID of the output display.\n",
              " * @return {!Iterable<!Object>} Iterable of next steps.\n",
              " */\n",
              "function* uploadFilesStep(inputId, outputId) {\n",
              "  const inputElement = document.getElementById(inputId);\n",
              "  inputElement.disabled = false;\n",
              "\n",
              "  const outputElement = document.getElementById(outputId);\n",
              "  outputElement.innerHTML = '';\n",
              "\n",
              "  const pickedPromise = new Promise((resolve) => {\n",
              "    inputElement.addEventListener('change', (e) => {\n",
              "      resolve(e.target.files);\n",
              "    });\n",
              "  });\n",
              "\n",
              "  const cancel = document.createElement('button');\n",
              "  inputElement.parentElement.appendChild(cancel);\n",
              "  cancel.textContent = 'Cancel upload';\n",
              "  const cancelPromise = new Promise((resolve) => {\n",
              "    cancel.onclick = () => {\n",
              "      resolve(null);\n",
              "    };\n",
              "  });\n",
              "\n",
              "  // Wait for the user to pick the files.\n",
              "  const files = yield {\n",
              "    promise: Promise.race([pickedPromise, cancelPromise]),\n",
              "    response: {\n",
              "      action: 'starting',\n",
              "    }\n",
              "  };\n",
              "\n",
              "  cancel.remove();\n",
              "\n",
              "  // Disable the input element since further picks are not allowed.\n",
              "  inputElement.disabled = true;\n",
              "\n",
              "  if (!files) {\n",
              "    return {\n",
              "      response: {\n",
              "        action: 'complete',\n",
              "      }\n",
              "    };\n",
              "  }\n",
              "\n",
              "  for (const file of files) {\n",
              "    const li = document.createElement('li');\n",
              "    li.append(span(file.name, {fontWeight: 'bold'}));\n",
              "    li.append(span(\n",
              "        `(${file.type || 'n/a'}) - ${file.size} bytes, ` +\n",
              "        `last modified: ${\n",
              "            file.lastModifiedDate ? file.lastModifiedDate.toLocaleDateString() :\n",
              "                                    'n/a'} - `));\n",
              "    const percent = span('0% done');\n",
              "    li.appendChild(percent);\n",
              "\n",
              "    outputElement.appendChild(li);\n",
              "\n",
              "    const fileDataPromise = new Promise((resolve) => {\n",
              "      const reader = new FileReader();\n",
              "      reader.onload = (e) => {\n",
              "        resolve(e.target.result);\n",
              "      };\n",
              "      reader.readAsArrayBuffer(file);\n",
              "    });\n",
              "    // Wait for the data to be ready.\n",
              "    let fileData = yield {\n",
              "      promise: fileDataPromise,\n",
              "      response: {\n",
              "        action: 'continue',\n",
              "      }\n",
              "    };\n",
              "\n",
              "    // Use a chunked sending to avoid message size limits. See b/62115660.\n",
              "    let position = 0;\n",
              "    do {\n",
              "      const length = Math.min(fileData.byteLength - position, MAX_PAYLOAD_SIZE);\n",
              "      const chunk = new Uint8Array(fileData, position, length);\n",
              "      position += length;\n",
              "\n",
              "      const base64 = btoa(String.fromCharCode.apply(null, chunk));\n",
              "      yield {\n",
              "        response: {\n",
              "          action: 'append',\n",
              "          file: file.name,\n",
              "          data: base64,\n",
              "        },\n",
              "      };\n",
              "\n",
              "      let percentDone = fileData.byteLength === 0 ?\n",
              "          100 :\n",
              "          Math.round((position / fileData.byteLength) * 100);\n",
              "      percent.textContent = `${percentDone}% done`;\n",
              "\n",
              "    } while (position < fileData.byteLength);\n",
              "  }\n",
              "\n",
              "  // All done.\n",
              "  yield {\n",
              "    response: {\n",
              "      action: 'complete',\n",
              "    }\n",
              "  };\n",
              "}\n",
              "\n",
              "scope.google = scope.google || {};\n",
              "scope.google.colab = scope.google.colab || {};\n",
              "scope.google.colab._files = {\n",
              "  _uploadFiles,\n",
              "  _uploadFilesContinue,\n",
              "};\n",
              "})(self);\n",
              "</script> "
            ]
          },
          "metadata": {}
        },
        {
          "output_type": "stream",
          "name": "stdout",
          "text": [
            "Saving acne 2.jpg to acne 2.jpg\n",
            "User uploaded file \"acne 2.jpg\" with length 134058 bytes\n",
            "\u001b[1m1/1\u001b[0m \u001b[32m━━━━━━━━━━━━━━━━━━━━\u001b[0m\u001b[37m\u001b[0m \u001b[1m0s\u001b[0m 61ms/step\n",
            "[[0.0017496  0.297785   0.6790646  0.02140076]]\n",
            "Predicted Skin Condition: normal\n"
          ]
        }
      ],
      "source": [
        "from tensorflow.keras.preprocessing import image\n",
        "from google.colab import files\n",
        "\n",
        "def predict_skin_condition(uploaded_image_path):\n",
        "    img = image.load_img(uploaded_image_path, target_size=(150, 150))\n",
        "    x = image.img_to_array(img)\n",
        "    x = np.expand_dims(x, axis=0)\n",
        "    x = x / 255.0  # Normalize the image\n",
        "\n",
        "    images = np.vstack([x])\n",
        "    classes = model.predict(images, batch_size=32)\n",
        "    print(classes)\n",
        "    class_labels = ['acne', 'dry', 'normal', 'oily']\n",
        "    predicted_class = np.argmax(classes)\n",
        "    predicted_label = class_labels[predicted_class]\n",
        "    print(f\"Predicted Skin Condition: {predicted_label}\")\n",
        "    return predicted_label\n",
        "\n",
        "# Upload the image\n",
        "uploaded = files.upload()\n",
        "for fn in uploaded.keys():\n",
        "  print('User uploaded file \"{name}\" with length {length} bytes'.format(\n",
        "      name=fn, length=len(uploaded[fn])))\n",
        "  image_path = fn\n",
        "  # Make prediction\n",
        "  predicted_label = predict_skin_condition(image_path)\n"
      ]
    }
  ],
  "metadata": {
    "colab": {
      "provenance": []
    },
    "kernelspec": {
      "display_name": "Python 3",
      "name": "python3"
    },
    "language_info": {
      "name": "python"
    }
  },
  "nbformat": 4,
  "nbformat_minor": 0
}